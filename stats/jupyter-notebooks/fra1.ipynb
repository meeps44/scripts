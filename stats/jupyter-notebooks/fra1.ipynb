{
 "cells": [
  {
   "cell_type": "code",
   "execution_count": 1,
   "metadata": {
    "tags": []
   },
   "outputs": [],
   "source": [
    "%load_ext autoreload\n",
    "# Reload all modules (except those excluded by %aimport) every time before executing the Python code typed.\n",
    "%autoreload 2"
   ]
  },
  {
   "cell_type": "code",
   "execution_count": 2,
   "metadata": {
    "tags": []
   },
   "outputs": [],
   "source": [
    "import os\n",
    "import sys\n",
    "module_path = os.path.abspath(os.path.join('..'))\n",
    "if module_path not in sys.path:\n",
    "    sys.path.append(module_path)\n",
    "from os.path import expanduser\n",
    "#from lib.definitions.classdefinitions import *\n",
    "import lib.definitions.classdefinitions as classdef\n",
    "import lib.filter as filter\n",
    "import lib.sqlite_load as sq\n",
    "import lib.util as util\n",
    "import lib.plot as plot\n",
    "import pandas as pd\n",
    "import logging\n",
    "import matplotlib.pyplot as plt\n",
    "from matplotlib.ticker import MaxNLocator\n",
    "import numpy as np\n",
    "import prettyprinter as pp\n",
    "import importlib\n",
    "\n",
    "FLOW_LABELS = [0, 255, 65280, 983040, 1048575]\n",
    "\n",
    "vantage_point: str = classdef.VantagePoint.fra\n",
    "db_path = \"/home/erlend/db-storage/large-data/\" + classdef.Databases.fra\n",
    "\n",
    "logging.basicConfig(level=logging.CRITICAL)\n",
    "vp = classdef.VantagePoint()\n",
    "home = expanduser(\"~\")\n",
    "# Test/small data:\n",
    "db_dir = home + \"/git/scripts/stats/sample-data/db/*.db\""
   ]
  },
  {
   "cell_type": "markdown",
   "metadata": {},
   "source": [
    "# Evaluation"
   ]
  },
  {
   "cell_type": "markdown",
   "metadata": {},
   "source": [
    "# Vantage Point: fra (Frankfurt, Germany)"
   ]
  },
  {
   "cell_type": "markdown",
   "metadata": {},
   "source": [
    "## Stats"
   ]
  },
  {
   "cell_type": "code",
   "execution_count": 3,
   "metadata": {
    "tags": []
   },
   "outputs": [
    {
     "name": "stdout",
     "output_type": "stream",
     "text": [
      "TracerouteStatistics(num_rows_total=155778, num_cycles=33576, num_cycle_rows=15325, num_loops=102792, num_loop_rows=47960, num_fl_changes=162, num_fl_change_rows=162, num_unique_asns_in_dataset=15648, num_invalid_rows=53338, n_traceroutes_to_the_same_destination_with_the_same_flow_label=2, num_vantage_points=8)\n"
     ]
    }
   ],
   "source": [
    "test: bool = False\n",
    "if test:\n",
    "    db_path = home + \"/git/scripts/stats/sample-data/db/db-ubuntu-fra1-0-2023-01-22T17_04_15Z.db\"\n",
    "    df: pd.DataFrame = sq.load_single(db_path)\n",
    "else:\n",
    "    df: pd.DataFrame = sq.load_single(db_path)\n",
    "stats = util.create_stats(df)\n",
    "pp.pprint(stats)"
   ]
  },
  {
   "cell_type": "markdown",
   "metadata": {},
   "source": [
    "# Flow label persistence\n",
    "### Does the flow label change in-transit?"
   ]
  },
  {
   "cell_type": "code",
   "execution_count": 4,
   "metadata": {
    "tags": []
   },
   "outputs": [
    {
     "name": "stdout",
     "output_type": "stream",
     "text": [
      "Total number of rows: 155778\n",
      "Total number of flow label changes: 162\n",
      "Total number of rows with flow label changes: 162\n"
     ]
    }
   ],
   "source": [
    "def count_rows_with_path_flow_label_changes(df: pd.DataFrame) -> int:\n",
    "    \"\"\"\n",
    "    Get a list containing the indices of all rows where the flow label changed en-route.\n",
    "    \"\"\"\n",
    "    indices = list()\n",
    "    for row_idx in df.index:\n",
    "        src_fl: str = str(df[\"SOURCE_FLOW_LABEL\"].iloc[row_idx])\n",
    "        ndf: str = df[\"HOP_RETURNED_FLOW_LABELS\"].iloc[row_idx]\n",
    "        flow_labels: list = ndf.split(\" \")\n",
    "        for val in flow_labels:\n",
    "            if src_fl != val:\n",
    "                indices.append(row_idx)\n",
    "                break\n",
    "    return len(indices)\n",
    "\n",
    "def get_num_rows(df: pd.DataFrame) -> int:\n",
    "    \"\"\"\n",
    "    Get total number of rows in the dataframe.\n",
    "    \"\"\"\n",
    "    return len(df)\n",
    "\n",
    "def count_flow_label_changes(df: pd.DataFrame) -> int:\n",
    "    \"\"\"\n",
    "    Get a list containing the indices of all rows where the flow label changed en-route.\n",
    "    \"\"\"\n",
    "    num_flow_label_changes: int = 0\n",
    "    for row_idx in df.index:\n",
    "        src_fl: str = str(df[\"SOURCE_FLOW_LABEL\"].iloc[row_idx])\n",
    "        returned_flow_labels: str = df[\"HOP_RETURNED_FLOW_LABELS\"].iloc[row_idx]\n",
    "        flow_labels: list = returned_flow_labels.split(\" \")\n",
    "        for val in flow_labels:\n",
    "            if src_fl != val:\n",
    "                num_flow_label_changes += 1\n",
    "    return num_flow_label_changes\n",
    "\n",
    "print(f\"Total number of rows: {get_num_rows(df)}\")\n",
    "print(f\"Total number of flow label changes: {count_flow_label_changes(df)}\")\n",
    "print(f\"Total number of rows with flow label changes: {count_rows_with_path_flow_label_changes(df)}\")"
   ]
  },
  {
   "cell_type": "markdown",
   "metadata": {
    "tags": []
   },
   "source": [
    "# Counting loops\n",
    "## How many loops were detected in the dataset?"
   ]
  },
  {
   "cell_type": "code",
   "execution_count": 5,
   "metadata": {
    "tags": []
   },
   "outputs": [
    {
     "name": "stdout",
     "output_type": "stream",
     "text": [
      "102792\n"
     ]
    }
   ],
   "source": [
    "def get_hop_ip_list(df: pd.DataFrame, row_idx: int) -> list:\n",
    "    hop_ip_str: str = df['HOP_IP_ADDRESSES'][row_idx]\n",
    "    hop_ip_list: list = hop_ip_str.split(\" \")\n",
    "    return hop_ip_list\n",
    "\n",
    "def count_loops(df: pd.DataFrame) -> int:\n",
    "    nloops = 0\n",
    "    for row_idx in df.index:\n",
    "        hop_ip_list: list = get_hop_ip_list(df, row_idx)\n",
    "        prev_ip: str = hop_ip_list[0]\n",
    "        for ip in hop_ip_list[1:]:\n",
    "            if ip == prev_ip:\n",
    "                nloops += 1\n",
    "            prev_ip = ip\n",
    "    return nloops\n",
    "result = count_loops(df)\n",
    "pp.pprint(result)"
   ]
  },
  {
   "cell_type": "markdown",
   "metadata": {
    "tags": []
   },
   "source": [
    "## How many rows (traces) contain a loop?"
   ]
  },
  {
   "cell_type": "code",
   "execution_count": 6,
   "metadata": {
    "tags": []
   },
   "outputs": [
    {
     "name": "stdout",
     "output_type": "stream",
     "text": [
      "47960\n"
     ]
    }
   ],
   "source": [
    "def count_loop_rows(df: pd.DataFrame) -> int:\n",
    "    indices = list()\n",
    "    for row_idx in df.index:\n",
    "        hop_ip_list: list = get_hop_ip_list(df, row_idx)\n",
    "        prev_ip = hop_ip_list[0]\n",
    "        for idx, ip in enumerate(hop_ip_list):\n",
    "            if idx != 0:\n",
    "                if ip == prev_ip:\n",
    "                    indices.append(row_idx)\n",
    "                    break\n",
    "            prev_ip = ip\n",
    "    return len(indices)\n",
    "\n",
    "result = count_loop_rows(df)\n",
    "pp.pprint(result)"
   ]
  },
  {
   "cell_type": "markdown",
   "metadata": {
    "tags": []
   },
   "source": [
    "# Counting cycles\n",
    "## How many cycles exist in the dataset?"
   ]
  },
  {
   "cell_type": "code",
   "execution_count": 7,
   "metadata": {
    "tags": []
   },
   "outputs": [
    {
     "name": "stdout",
     "output_type": "stream",
     "text": [
      "33576\n"
     ]
    }
   ],
   "source": [
    "def is_cycle(hop_ip_list: list) -> bool:\n",
    "    \"\"\"\n",
    "    Checks whether there is a cycle in a given list of \n",
    "    sequential ip addresses\n",
    "    \"\"\"\n",
    "    for idx, ip in enumerate(hop_ip_list):\n",
    "        for inner_ip in hop_ip_list[idx+2:]:\n",
    "            if ip == inner_ip and ip != hop_ip_list[idx+1]:\n",
    "                return True\n",
    "    return False\n",
    "\n",
    "def get_unique_list_items(input: list) -> list:\n",
    "    \"\"\"\n",
    "    Get a list containing only the unique values from the input list.\n",
    "    \"\"\"\n",
    "    unique_list = list()\n",
    "    for item in input:\n",
    "        if item not in unique_list:\n",
    "            unique_list.append(item)\n",
    "    return unique_list\n",
    "\n",
    "def count_cycles(df: pd.DataFrame) -> int:\n",
    "    \"\"\"\n",
    "    Count the number of cycles in the dataset. If there are multiple \n",
    "    cycles in each row, each will be counted as a separate cycle.\n",
    "    A cycle is where the same IP address appears twice, separated by \n",
    "    at least one other IP address.\n",
    "    \"\"\"\n",
    "    cycle_count = 0\n",
    "    for row_idx in df.index:\n",
    "        hop_ip_list: list = get_hop_ip_list(df, row_idx)\n",
    "        unique_list = get_unique_list_items(hop_ip_list)\n",
    "        for item in unique_list:\n",
    "            ip_count = hop_ip_list.count(item)\n",
    "            if ip_count >= 2:\n",
    "                if is_cycle(hop_ip_list):\n",
    "                    cycle_count += 1\n",
    "    return cycle_count\n",
    "\n",
    "num_cycles = count_cycles(df)\n",
    "pp.pprint(num_cycles)"
   ]
  },
  {
   "cell_type": "markdown",
   "metadata": {
    "tags": []
   },
   "source": [
    "## How many rows (traces) contain a cycle?"
   ]
  },
  {
   "cell_type": "code",
   "execution_count": 8,
   "metadata": {
    "tags": []
   },
   "outputs": [
    {
     "name": "stdout",
     "output_type": "stream",
     "text": [
      "15325\n"
     ]
    }
   ],
   "source": [
    "def is_cycle(hop_ip_list: list) -> bool:\n",
    "    \"\"\"\n",
    "    Checks whether there is a cycle in a given list of \n",
    "    sequential ip addresses\n",
    "    \"\"\"\n",
    "    for idx, ip in enumerate(hop_ip_list):\n",
    "        for inner_ip in hop_ip_list[idx+2:]:\n",
    "            if ip == inner_ip and ip != hop_ip_list[idx+1]:\n",
    "                return True\n",
    "    return False\n",
    "\n",
    "def get_unique_list_items(input: list) -> list:\n",
    "    \"\"\"\n",
    "    Get a list containing only the unique values from the input list.\n",
    "    \"\"\"\n",
    "    unique_list = list()\n",
    "    for item in input:\n",
    "        if item not in unique_list:\n",
    "            unique_list.append(item)\n",
    "    return unique_list\n",
    "\n",
    "def count_cycle_rows(df: pd.DataFrame) -> int:\n",
    "    \"\"\"\n",
    "    Get a list containing the indices of all rows that contain one or more cycles in the dataset.\n",
    "    \"\"\"\n",
    "    indices = list()\n",
    "    for row_idx in df.index:\n",
    "        hop_ip_list: list = get_hop_ip_list(df, row_idx)\n",
    "        unique_list = get_unique_list_items(hop_ip_list)\n",
    "        for item in unique_list:\n",
    "            ip_count = hop_ip_list.count(item)\n",
    "            if ip_count >= 2:\n",
    "                if is_cycle(hop_ip_list):\n",
    "                    indices.append(row_idx)\n",
    "                    break # Uncomment this if we only want to count 1 cycle per row.\n",
    "    return len(indices)\n",
    "\n",
    "result = count_cycle_rows(df)\n",
    "pp.pprint(result)"
   ]
  },
  {
   "cell_type": "markdown",
   "metadata": {},
   "source": [
    "# Filtering\n",
    "## How many invalid traces do we have?\n",
    "### Causes of invalid traces:\n",
    "1. Loops\n",
    "2. Cycles\n",
    "3. Loop-siblings and cycle-sibings\n",
    "4. Flow label changes in-transit"
   ]
  },
  {
   "cell_type": "code",
   "execution_count": 9,
   "metadata": {
    "tags": []
   },
   "outputs": [
    {
     "name": "stdout",
     "output_type": "stream",
     "text": [
      "53338\n"
     ]
    }
   ],
   "source": [
    "def get_rows_with_path_flow_label_changes(df: pd.DataFrame) -> list:\n",
    "    \"\"\"\n",
    "    Get a list containing the indices of all rows where the flow label changed en-route.\n",
    "    \"\"\"\n",
    "    indices = list()\n",
    "    for row_idx in df.index:\n",
    "        src_fl: str = str(df[\"SOURCE_FLOW_LABEL\"].iloc[row_idx])\n",
    "        ndf: str = df[\"HOP_RETURNED_FLOW_LABELS\"].iloc[row_idx]\n",
    "        flow_labels: list = ndf.split(\" \")\n",
    "        for val in flow_labels:\n",
    "            if src_fl != val:\n",
    "                indices.append(row_idx)\n",
    "                break\n",
    "    return indices\n",
    "\n",
    "def get_cycle_indices(df: pd.DataFrame) -> list:\n",
    "    \"\"\"\n",
    "    Get a list containing the indices of all rows that contain one or more cycles in the dataset.\n",
    "    \"\"\"\n",
    "    indices = list()\n",
    "    for row_idx in df.index:\n",
    "        hop_ip_list: list = get_hop_ip_list(df, row_idx)\n",
    "        unique_list = get_unique_list_items(hop_ip_list)\n",
    "        for item in unique_list:\n",
    "            ip_count = hop_ip_list.count(item)\n",
    "            if ip_count >= 2:\n",
    "                if is_cycle(hop_ip_list):\n",
    "                    indices.append(row_idx)\n",
    "                    # Uncomment this if we only want to count 1 cycle per row.\n",
    "                    break\n",
    "    return indices\n",
    "\n",
    "def get_hop_ip_list(df: pd.DataFrame, row_idx: int) -> list:\n",
    "    hop_ip_str: str = df['HOP_IP_ADDRESSES'][row_idx]\n",
    "    hop_ip_list: list = hop_ip_str.split(\" \")\n",
    "    return hop_ip_list\n",
    "\n",
    "def get_loop_indices(df: pd.DataFrame) -> list:\n",
    "    \"\"\"\n",
    "    Get a list containing the indices of all rows that contain loops in the dataset.\n",
    "    \"\"\"\n",
    "    indices = list()\n",
    "    for row_idx in df.index:\n",
    "        hop_ip_list: list = get_hop_ip_list(df, row_idx)\n",
    "        prev_ip = hop_ip_list[0]\n",
    "        for idx, ip in enumerate(hop_ip_list):\n",
    "            if idx != 0:\n",
    "                if ip == prev_ip:\n",
    "                    indices.append(row_idx)\n",
    "                    break\n",
    "            prev_ip = ip\n",
    "    return indices\n",
    "\n",
    "def count_invalid_traces(df: pd.DataFrame) -> int:\n",
    "    \"\"\"\n",
    "    Count traces containing loops, cycles and flow label values\n",
    "    that changed in-transit.\n",
    "    \"\"\"\n",
    "    loop_indices: list = get_loop_indices(df)\n",
    "    cycle_indices: list = get_cycle_indices(df)\n",
    "    fl_change_indices: list = get_rows_with_path_flow_label_changes(df)\n",
    "    merged_list = loop_indices + cycle_indices + fl_change_indices\n",
    "    # Remove duplicate entries\n",
    "    merged_list = list(dict.fromkeys(merged_list))\n",
    "    return len(merged_list)\n",
    "\n",
    "num_invalid_traces = count_invalid_traces(df)\n",
    "print(num_invalid_traces)"
   ]
  },
  {
   "cell_type": "markdown",
   "metadata": {
    "tags": []
   },
   "source": [
    "## Drop invalid traces (rows)"
   ]
  },
  {
   "cell_type": "code",
   "execution_count": 10,
   "metadata": {
    "tags": []
   },
   "outputs": [
    {
     "name": "stdout",
     "output_type": "stream",
     "text": [
      "old row len:\n",
      "155778\n",
      "Dropping invalid traces\n",
      "New row len\n",
      "98648\n",
      "Row len difference\n",
      "57130\n"
     ]
    }
   ],
   "source": [
    "def is_cycle(hop_ip_list: list) -> bool:\n",
    "    \"\"\"\n",
    "    Checks whether there is a cycle in a given list of \n",
    "    sequential ip addresses\n",
    "    \"\"\"\n",
    "    for idx, ip in enumerate(hop_ip_list):\n",
    "        for inner_ip in hop_ip_list[idx+2:]:\n",
    "            if ip == inner_ip and ip != hop_ip_list[idx+1]:\n",
    "                return True\n",
    "    return False\n",
    "\n",
    "def get_unique_list_items(input: list) -> list:\n",
    "    \"\"\"\n",
    "    Get a list containing only the unique values from the input list.\n",
    "    \"\"\"\n",
    "    unique_list = list()\n",
    "    for item in input:\n",
    "        if item not in unique_list:\n",
    "            unique_list.append(item)\n",
    "    return unique_list\n",
    "\n",
    "def get_hop_ip_list(df: pd.DataFrame, row_idx: int) -> list:\n",
    "    hop_ip_str: str = df['HOP_IP_ADDRESSES'][row_idx]\n",
    "    hop_ip_list: list = hop_ip_str.split(\" \")\n",
    "    return hop_ip_list\n",
    "\n",
    "def get_rows_with_path_flow_label_changes(df: pd.DataFrame) -> list:\n",
    "    \"\"\"\n",
    "    Get a list containing the indices of all rows where the flow label changed en-route.\n",
    "    \"\"\"\n",
    "    indices = list()\n",
    "    for row_idx in df.index:\n",
    "        src_fl: str = str(df[\"SOURCE_FLOW_LABEL\"].iloc[row_idx])\n",
    "        ndf: str = df[\"HOP_RETURNED_FLOW_LABELS\"].iloc[row_idx]\n",
    "        flow_labels: list = ndf.split(\" \")\n",
    "        for val in flow_labels:\n",
    "            if src_fl != val:\n",
    "                indices.append(row_idx)\n",
    "                break\n",
    "    return indices\n",
    "\n",
    "def get_fl_tuples(df: pd.DataFrame) -> list:\n",
    "    \"\"\"\n",
    "    Get a list containing the indices of all rows where the flow label changed en-route.\n",
    "    \"\"\"\n",
    "    indices = list()\n",
    "    for row_idx in df.index:\n",
    "        src_fl: str = str(df[\"SOURCE_FLOW_LABEL\"].iloc[row_idx])\n",
    "        ndf: str = df[\"HOP_RETURNED_FLOW_LABELS\"].iloc[row_idx]\n",
    "        flow_labels: list = ndf.split(\" \")\n",
    "        for val in flow_labels:\n",
    "            if src_fl != val:\n",
    "                row_src_ip = df[\"SOURCE_IP\"].iloc[row_idx]\n",
    "                row_dst_ip = df[\"DESTINATION_IP\"].iloc[row_idx]\n",
    "                row_flow_label = df[\"SOURCE_FLOW_LABEL\"].iloc[row_idx]\n",
    "                cycle_tuple = (row_src_ip, row_dst_ip, row_flow_label)\n",
    "                indices.append(cycle_tuple)\n",
    "                break\n",
    "    return indices\n",
    "\n",
    "def get_cycle_tuples(df: pd.DataFrame):\n",
    "    \"\"\"\n",
    "    Get a list containing the indices of all rows that contain one or more cycles in the dataset.\n",
    "    \"\"\"\n",
    "    indices = list()\n",
    "    for row_idx in df.index:\n",
    "        hop_ip_list: list = get_hop_ip_list(df, row_idx)\n",
    "        unique_list = get_unique_list_items(hop_ip_list)\n",
    "        for item in unique_list:\n",
    "            ip_count = hop_ip_list.count(item)\n",
    "            if ip_count >= 2:\n",
    "                if is_cycle(hop_ip_list):\n",
    "                    row_src_ip = df[\"SOURCE_IP\"].iloc[row_idx]\n",
    "                    row_dst_ip = df[\"DESTINATION_IP\"].iloc[row_idx]\n",
    "                    row_flow_label = df[\"SOURCE_FLOW_LABEL\"].iloc[row_idx]\n",
    "                    cycle_tuple = (row_src_ip, row_dst_ip, row_flow_label)\n",
    "                    indices.append(cycle_tuple)\n",
    "                    # Uncomment this if we only want to count 1 cycle per row.\n",
    "                    break\n",
    "    return indices\n",
    "\n",
    "def get_loop_tuples(df: pd.DataFrame) -> list:\n",
    "    \"\"\"\n",
    "    Get a list containing the indices of all rows that contain loops in the dataset.\n",
    "    \"\"\"\n",
    "    indices = list()\n",
    "    for row_idx in df.index:\n",
    "        hop_ip_list: list = get_hop_ip_list(df, row_idx)\n",
    "        prev_ip = hop_ip_list[0]\n",
    "        for idx, ip in enumerate(hop_ip_list):\n",
    "            if idx != 0:\n",
    "                if ip == prev_ip:\n",
    "                    row_src_ip = df[\"SOURCE_IP\"].iloc[row_idx]\n",
    "                    row_dst_ip = df[\"DESTINATION_IP\"].iloc[row_idx]\n",
    "                    row_flow_label = df[\"SOURCE_FLOW_LABEL\"].iloc[row_idx]\n",
    "                    cycle_tuple = (row_src_ip, row_dst_ip, row_flow_label)\n",
    "                    indices.append(cycle_tuple)\n",
    "                    break\n",
    "            prev_ip = ip\n",
    "    return indices\n",
    "\n",
    "def get_cycle_indices(df: pd.DataFrame) -> list:\n",
    "    \"\"\"\n",
    "    Get a list containing the indices of all rows that contain one or more cycles in the dataset.\n",
    "    \"\"\"\n",
    "    indices = list()\n",
    "    for row_idx in df.index:\n",
    "        hop_ip_list: list = get_hop_ip_list(df, row_idx)\n",
    "        unique_list = get_unique_list_items(hop_ip_list)\n",
    "        for item in unique_list:\n",
    "            ip_count = hop_ip_list.count(item)\n",
    "            if ip_count >= 2:\n",
    "                if is_cycle(hop_ip_list):\n",
    "                    indices.append(row_idx)\n",
    "                    # Uncomment this if we only want to count 1 cycle per row.\n",
    "                    break\n",
    "    return indices\n",
    "\n",
    "def get_loop_indices(df: pd.DataFrame) -> list:\n",
    "    \"\"\"\n",
    "    Get a list containing the indices of all rows that contain loops in the dataset.\n",
    "    \"\"\"\n",
    "    indices = list()\n",
    "    for row_idx in df.index:\n",
    "        hop_ip_list: list = get_hop_ip_list(df, row_idx)\n",
    "        prev_ip = hop_ip_list[0]\n",
    "        for idx, ip in enumerate(hop_ip_list):\n",
    "            if idx != 0:\n",
    "                if ip == prev_ip:\n",
    "                    indices.append(row_idx)\n",
    "                    break\n",
    "            prev_ip = ip\n",
    "    return indices\n",
    "\n",
    "def get_invalid_traces_indices(df: pd.DataFrame) -> list:\n",
    "    \"\"\"\n",
    "    Get a list containing the indicies of all rows\n",
    "    with invalid traces.\n",
    "    \"\"\"\n",
    "    loop_indices: list = get_loop_indices(df)\n",
    "    cycle_indices: list = get_cycle_indices(df)\n",
    "    fl_change_indices: list = get_rows_with_path_flow_label_changes(df)\n",
    "    merged_list = loop_indices + cycle_indices + fl_change_indices\n",
    "    # Remove duplicate entries\n",
    "    merged_list = list(dict.fromkeys(merged_list))\n",
    "    return merged_list\n",
    "\n",
    "def get_sibling_indices(df: pd.DataFrame):\n",
    "    sibling_indices = list()\n",
    "    invalid_traces = get_invalid_traces_indices(df)\n",
    "    for row_idx in invalid_traces:\n",
    "        row_src_ip = df[\"SOURCE_IP\"].iloc[row_idx]\n",
    "        row_dst_ip = df[\"DESTINATION_IP\"].iloc[row_idx]\n",
    "        row_flow_label = df[\"SOURCE_FLOW_LABEL\"].iloc[row_idx] \n",
    "        new_df = df[ (df[\"SOURCE_IP\"] == row_src_ip) & (df[\"DESTINATION_IP\"] == row_dst_ip) & (df[\"SOURCE_FLOW_LABEL\"] == row_flow_label)]\n",
    "        sibling_indices = sibling_indices + list(new_df.index)\n",
    "    return sibling_indices\n",
    "\n",
    "def drop_loops(df: pd.DataFrame):\n",
    "    for row_idx in df.index:\n",
    "        row_src_ip = df[\"SOURCE_IP\"]\n",
    "        row_dst_ip = df[\"DESTINATION_IP\"]\n",
    "        row_flow_label = df[\"SOURCE_FLOW_LABEL\"]\n",
    "        hop_ip_list: list = get_hop_ip_list(df, row_idx)\n",
    "        prev_ip = hop_ip_list[0]\n",
    "        for idx, ip in enumerate(hop_ip_list):\n",
    "            if idx != 0:\n",
    "                if ip == prev_ip:\n",
    "                    # Loop detected\n",
    "                    df.drop(df[(df[\"SOURCE_IP\"] == row_src_ip) & (df[\"DESTINATION_IP\"] == row_dst_ip) & (df[\"SOURCE_FLOW_LABEL\"] == row_flow_label)].index, inplace=True)\n",
    "                    break\n",
    "            prev_ip = ip\n",
    "\n",
    "def drop_cycles(df: pd.DataFrame):\n",
    "    for row_idx in df.index:\n",
    "        row_src_ip = df[\"SOURCE_IP\"]\n",
    "        row_dst_ip = df[\"DESTINATION_IP\"]\n",
    "        row_flow_label = df[\"SOURCE_FLOW_LABEL\"]\n",
    "        hop_ip_list: list = get_hop_ip_list(df, row_idx)\n",
    "        unique_list = get_unique_list_items(hop_ip_list)\n",
    "        for item in unique_list:\n",
    "            ip_count = hop_ip_list.count(item)\n",
    "            if ip_count >= 2:\n",
    "                if is_cycle(hop_ip_list):\n",
    "                    # Cycle detected\n",
    "                    df.drop(df[(df[\"SOURCE_IP\"] == row_src_ip) & (df[\"DESTINATION_IP\"] == row_dst_ip) & (df[\"SOURCE_FLOW_LABEL\"] == row_flow_label)].index, inplace=True)\n",
    "                    break\n",
    "\n",
    "def drop_flow_label_changes(df: pd.DataFrame):\n",
    "    for row_idx in df.index:\n",
    "        row_src_ip = df[\"SOURCE_IP\"]\n",
    "        row_dst_ip = df[\"DESTINATION_IP\"]\n",
    "        row_flow_label = df[\"SOURCE_FLOW_LABEL\"]\n",
    "        src_fl: str = str(df[\"SOURCE_FLOW_LABEL\"].iloc[row_idx])\n",
    "        ndf: str = df[\"HOP_RETURNED_FLOW_LABELS\"].iloc[row_idx]\n",
    "        flow_labels: list = ndf.split(\" \")\n",
    "        for val in flow_labels:\n",
    "            if src_fl != val:\n",
    "                # Change in flow label detected\n",
    "                new_df = df.drop(df[(df[\"SOURCE_IP\"] == row_src_ip) & (df[\"DESTINATION_IP\"] == row_dst_ip) & (df[\"SOURCE_FLOW_LABEL\"] == row_flow_label)].index)\n",
    "                break\n",
    "        return new_df\n",
    "\n",
    "print(\"old row len:\")\n",
    "old_row_len = len(df.index)\n",
    "print(old_row_len)\n",
    "\n",
    "print(\"Dropping invalid traces\")\n",
    "invalid_traces_tuples = get_fl_tuples(df) + get_cycle_tuples(df) + get_loop_tuples(df)\n",
    "\n",
    "for row in invalid_traces_tuples:\n",
    "    df.drop(df[(df[\"SOURCE_IP\"] == row[0]) & (df[\"DESTINATION_IP\"] == row[1]) & (df[\"SOURCE_FLOW_LABEL\"] == row[2])].index, inplace=True)\n",
    "\n",
    "print(\"New row len\")\n",
    "new_row_len = len(df.index)\n",
    "row_len_diff = old_row_len - new_row_len\n",
    "print(new_row_len)\n",
    "print(\"Row len difference\")\n",
    "print(row_len_diff)"
   ]
  },
  {
   "cell_type": "markdown",
   "metadata": {},
   "source": [
    "# Path consistency\n",
    "## Do we get a consistent path by setting the flow label?"
   ]
  },
  {
   "cell_type": "code",
   "execution_count": 11,
   "metadata": {
    "tags": []
   },
   "outputs": [
    {
     "data": {
      "image/png": "[encoded data removed]",
      "text/plain": [
       "<Figure size 640x480 with 1 Axes>"
      ]
     },
     "metadata": {},
     "output_type": "display_data"
    },
    {
     "data": {
      "image/png": "[encoded data removed]",
      "text/plain": [
       "<Figure size 640x480 with 1 Axes>"
      ]
     },
     "metadata": {},
     "output_type": "display_data"
    },
    {
     "data": {
      "image/png": "[encoded data removed]",
      "text/plain": [
       "<Figure size 640x480 with 1 Axes>"
      ]
     },
     "metadata": {},
     "output_type": "display_data"
    },
    {
     "data": {
      "image/png": "[encoded data removed]",
      "text/plain": [
       "<Figure size 640x480 with 1 Axes>"
      ]
     },
     "metadata": {},
     "output_type": "display_data"
    },
    {
     "data": {
      "image/png": "[encoded data removed]",
      "text/plain": [
       "<Figure size 640x480 with 1 Axes>"
      ]
     },
     "metadata": {},
     "output_type": "display_data"
    }
   ],
   "source": [
    "def get_unique_destination_addresses(df: pd.DataFrame) -> list:\n",
    "    \"\"\"\n",
    "    Get all unique values in the DESTINATION_IP column.\n",
    "    \"\"\"\n",
    "    return df[\"DESTINATION_IP\"].unique().tolist()\n",
    "\n",
    "def get_path_hash_value_counts(\n",
    "        df: pd.DataFrame, flowlabel: int) -> pd.Series:\n",
    "    \"\"\"\n",
    "    Get a distribution of the number of paths to a destination.\n",
    "    \"\"\"\n",
    "    unique_destination_addresses: list = get_unique_destination_addresses(df)\n",
    "    start_df: pd.DataFrame = df[(df[\"SOURCE_FLOW_LABEL\"] == flowlabel) & (\n",
    "        df[\"DESTINATION_IP\"] == str(unique_destination_addresses[0]))]\n",
    "    base: pd.Series = start_df[\"PATH_HASH\"].value_counts()\n",
    "    for addr in unique_destination_addresses[1:]:\n",
    "        next_df: pd.DataFrame = df[(df[\"SOURCE_FLOW_LABEL\"] == flowlabel)\n",
    "                                   & (df[\"DESTINATION_IP\"] == str(addr))]\n",
    "        overlay: pd.Series = next_df[\"PATH_HASH\"].value_counts()\n",
    "        base = pd.concat([base, overlay], axis=0)\n",
    "    logging.info(f\"base value_counts:\\n{base.value_counts().to_string()}\")\n",
    "    return base.value_counts()\n",
    "\n",
    "for flow_label in FLOW_LABELS:\n",
    "    dist = get_path_hash_value_counts(\n",
    "        df, flowlabel=flow_label)\n",
    "    fig, ax = plt.subplots()\n",
    "    bars = ax.bar([str(i) for i in dist.index], dist)\n",
    "    ax.bar_label(bars)\n",
    "    plt.title(f\"Vantage point: {vantage_point} \\nFlow label: {flow_label}\")"
   ]
  },
  {
   "cell_type": "markdown",
   "metadata": {
    "tags": []
   },
   "source": [
    "# ASNs"
   ]
  },
  {
   "cell_type": "code",
   "execution_count": 12,
   "metadata": {},
   "outputs": [],
   "source": [
    "def get_all_unique_asns_in_dataset(df: pd.DataFrame) -> list:\n",
    "    \"\"\"\n",
    "    Get the unique values in the START_TIME column from all databases \n",
    "    in a directory, and combine to a single dataframe.\n",
    "    \"\"\"\n",
    "    src_df = df[\"SOURCE_ASN\"].unique()\n",
    "    dst_df = df[\"DESTINATION_ASN\"].unique()\n",
    "    hop_asn_list = list()\n",
    "    for row_idx in df.index:\n",
    "        hal: list = str(df[\"HOP_ASNS\"].iloc[row_idx]).split()\n",
    "        for asn in hal:\n",
    "            hop_asn_list.append(asn)\n",
    "    unique = list(set(src_df.tolist() + dst_df.tolist() + hop_asn_list))\n",
    "    return unique\n",
    "\n",
    "\n",
    "def get_distribution_of_number_of_asn_hops_to_destination(df: pd.DataFrame, flow_label: int, destination: str) -> pd.Series:\n",
    "    \"\"\"\n",
    "    Get a distribution of the number of ASN hops to a destination address \n",
    "    with the given flow label.\n",
    "    Can be plotted to a histogram.\n",
    "    \"\"\"\n",
    "    dst_df = df[(df[\"SOURCE_FLOW_LABEL\"] == flow_label)\n",
    "                & (df[\"DESTINATION_IP\"] == destination)]\n",
    "    num_asn_hops: list = list()\n",
    "    for row in dst_df.itertuples():\n",
    "        hop_asn_list: list = list()\n",
    "        hal: list = str(row[13]).split()\n",
    "        for asn in hal:\n",
    "            print(f\"{asn=}\")\n",
    "            if asn != \"NULL\":\n",
    "                hop_asn_list.append(asn)\n",
    "        num_asn_hops.append(len(hop_asn_list))\n",
    "    return pd.Series(num_asn_hops).value_counts()\n",
    "\n",
    "\n",
    "def get_unique_source_asns(df: pd.DataFrame) -> pd.Series:\n",
    "    return df[\"SOURCE_ASN\"].unique()"
   ]
  },
  {
   "cell_type": "markdown",
   "metadata": {},
   "source": [
    "# Tables"
   ]
  },
  {
   "cell_type": "code",
   "execution_count": 13,
   "metadata": {
    "tags": []
   },
   "outputs": [
    {
     "name": "stdout",
     "output_type": "stream",
     "text": [
      "Vantage Point      Total number of traces in unfiltered dataset    Total number of traces in filtered dataset    Number of filtered traces    Number of unique destination ASNs in filtered dataset\n",
      "---------------  ----------------------------------------------  --------------------------------------------  ---------------------------  -------------------------------------------------------\n",
      "fra1                                                     155778                                         98648                        57130                                                    12868\n",
      "  Total number of traces with flow label       0    Total number of unique paths with flow label       0    Number of times path stayed consistent with flow label       0    Percentage of times path stayed consistent with flow label       0\n",
      "------------------------------------------------  ------------------------------------------------------  ----------------------------------------------------------------  --------------------------------------------------------------------\n",
      "                                           19870                                                   16324                                                               938                                                             0.0472068\n",
      "  Total number of traces with flow label     255    Total number of unique paths with flow label     255    Number of times path stayed consistent with flow label     255    Percentage of times path stayed consistent with flow label     255\n",
      "------------------------------------------------  ------------------------------------------------------  ----------------------------------------------------------------  --------------------------------------------------------------------\n",
      "                                           19870                                                   16352                                                               840                                                             0.0421348\n",
      "  Total number of traces with flow label   65280    Total number of unique paths with flow label   65280    Number of times path stayed consistent with flow label   65280    Percentage of times path stayed consistent with flow label   65280\n",
      "------------------------------------------------  ------------------------------------------------------  ----------------------------------------------------------------  --------------------------------------------------------------------\n",
      "                                           19870                                                   16211                                                               816                                                             0.0416582\n",
      "  Total number of traces with flow label  983040    Total number of unique paths with flow label  983040    Number of times path stayed consistent with flow label  983040    Percentage of times path stayed consistent with flow label  983040\n",
      "------------------------------------------------  ------------------------------------------------------  ----------------------------------------------------------------  --------------------------------------------------------------------\n",
      "                                           19870                                                   15987                                                               792                                                             0.0408037\n",
      "  Total number of traces with flow label 1048575    Total number of unique paths with flow label 1048575    Number of times path stayed consistent with flow label 1048575    Percentage of times path stayed consistent with flow label 1048575\n",
      "------------------------------------------------  ------------------------------------------------------  ----------------------------------------------------------------  --------------------------------------------------------------------\n",
      "                                           19870                                                   16363                                                               818                                                             0.0412215\n"
     ]
    }
   ],
   "source": [
    "from tabulate import tabulate\n",
    "import pandas as pd\n",
    "\n",
    "def get_unique_destination_addresses(df: pd.DataFrame) -> list:\n",
    "    \"\"\"\n",
    "    Get all unique values in the DESTINATION_IP column.\n",
    "    \"\"\"\n",
    "    return df[\"DESTINATION_IP\"].unique().tolist()\n",
    "\n",
    "def get_path_hash_value_counts(\n",
    "        df: pd.DataFrame, flowlabel: int) -> pd.Series:\n",
    "    \"\"\"\n",
    "    Get a distribution of the number of paths to a destination.\n",
    "    \"\"\"\n",
    "    unique_destination_addresses: list = get_unique_destination_addresses(df)\n",
    "    start_df: pd.DataFrame = df[(df[\"SOURCE_FLOW_LABEL\"] == flowlabel) & (\n",
    "        df[\"DESTINATION_IP\"] == str(unique_destination_addresses[0]))]\n",
    "    base: pd.Series = start_df[\"PATH_HASH\"].value_counts()\n",
    "    for addr in unique_destination_addresses[1:]:\n",
    "        next_df: pd.DataFrame = df[(df[\"SOURCE_FLOW_LABEL\"] == flowlabel)\n",
    "                                   & (df[\"DESTINATION_IP\"] == str(addr))]\n",
    "        overlay: pd.Series = next_df[\"PATH_HASH\"].value_counts()\n",
    "        base = pd.concat([base, overlay], axis=0)\n",
    "    logging.info(f\"base value_counts:\\n{base.value_counts().to_string()}\")\n",
    "    return base.value_counts()\n",
    "\n",
    "N_TRACES = 2\n",
    "\n",
    "FLOW_LABELS = [0, 255, 65280, 983040, 1048575]\n",
    "vc_1 = get_path_hash_value_counts(df, flowlabel=0)\n",
    "vc_2 = get_path_hash_value_counts(df, flowlabel=255)\n",
    "vc_3 = get_path_hash_value_counts(df, flowlabel=65280)\n",
    "vc_4 = get_path_hash_value_counts(df, flowlabel=983040)\n",
    "vc_5 = get_path_hash_value_counts(df, flowlabel=1048575)\n",
    "  \n",
    "tab1 = {\n",
    "'Vantage Point':[vantage_point],\n",
    "#'Total number of traces in unfiltered dataset':[len(df.index)],\n",
    "'Total number of traces in unfiltered dataset':[old_row_len],\n",
    "#'Total number of traces in filtered dataset':[len(df.index)],\n",
    "'Total number of traces in filtered dataset':[new_row_len],\n",
    "#'Number of unique source ASNs in dataset': [df[\"SOURCE_ASN\"].unique().size],\n",
    "'Number of filtered traces':[row_len_diff],\n",
    "'Number of unique destination ASNs in filtered dataset': [df[\"DESTINATION_ASN\"].unique().size],\n",
    "}\n",
    "\n",
    "tab2 = {\n",
    "'Total number of traces with flow label       0':[len(df[(df[\"SOURCE_FLOW_LABEL\"] == 0)].index)],\n",
    "'Total number of unique paths with flow label       0':[len(df[df[\"SOURCE_FLOW_LABEL\"] == 0].loc[:, \"PATH_HASH\"].unique())],\n",
    "'Number of times path stayed consistent with flow label       0':[(vc_1[2] * N_TRACES)],\n",
    "'Percentage of times path stayed consistent with flow label       0':[(vc_1[2] * N_TRACES) / ((vc_1[2] * N_TRACES) + (vc_1[1]))],\n",
    "}\n",
    "\n",
    "tab3 = {\n",
    "'Total number of traces with flow label     255':[len(df[(df[\"SOURCE_FLOW_LABEL\"] == 0)].index)],\n",
    "'Total number of unique paths with flow label     255':[len(df[df[\"SOURCE_FLOW_LABEL\"] == 255].loc[:, \"PATH_HASH\"].unique())],\n",
    "'Number of times path stayed consistent with flow label     255':[(vc_2[2] * N_TRACES)],\n",
    "'Percentage of times path stayed consistent with flow label     255':[(vc_2[2] * N_TRACES) / ((vc_2[2] * N_TRACES) + (vc_2[1]))],\n",
    "}\n",
    "\n",
    "tab4 = {\n",
    "'Total number of traces with flow label   65280':[len(df[(df[\"SOURCE_FLOW_LABEL\"] == 0)].index)],\n",
    "'Total number of unique paths with flow label   65280':[len(df[df[\"SOURCE_FLOW_LABEL\"] == 65280].loc[:, \"PATH_HASH\"].unique())],\n",
    "'Number of times path stayed consistent with flow label   65280':[(vc_3[2] * N_TRACES)],\n",
    "'Percentage of times path stayed consistent with flow label   65280':[(vc_3[2] * N_TRACES) / ((vc_3[2] * N_TRACES) + (vc_3[1]))],\n",
    "}\n",
    "\n",
    "tab5 = {\n",
    "'Total number of traces with flow label  983040':[len(df[(df[\"SOURCE_FLOW_LABEL\"] == 0)].index)],\n",
    "'Total number of unique paths with flow label  983040':[len(df[df[\"SOURCE_FLOW_LABEL\"] == 983040].loc[:, \"PATH_HASH\"].unique())],\n",
    "'Number of times path stayed consistent with flow label  983040':[(vc_4[2] * N_TRACES)],\n",
    "'Percentage of times path stayed consistent with flow label  983040':[(vc_4[2] * N_TRACES) / ((vc_4[2] * N_TRACES) + (vc_4[1]))],\n",
    "}\n",
    "\n",
    "tab6 = {\n",
    "'Total number of traces with flow label 1048575':[len(df[(df[\"SOURCE_FLOW_LABEL\"] == 0)].index)],\n",
    "'Total number of unique paths with flow label 1048575':[len(df[df[\"SOURCE_FLOW_LABEL\"] == 1048575].loc[:, \"PATH_HASH\"].unique())],\n",
    "'Number of times path stayed consistent with flow label 1048575':[(vc_5[2] * N_TRACES)],\n",
    "'Percentage of times path stayed consistent with flow label 1048575':[(vc_5[2] * N_TRACES) / ((vc_5[2] * N_TRACES) + (vc_5[1]))],\n",
    "}\n",
    "\n",
    "#tab7 = {\n",
    "#'Number of loops':[count_loops(df)],\n",
    "#'Number of cycles':[count_cycles(df)],\n",
    "#'Number of loop rows':[count_loop_rows(df)],\n",
    "#'Number of cycle rows':[count_cycle_rows(df)],\n",
    "#}\n",
    "\n",
    "#tab8 = {\n",
    "#'Number of flow label changes':[count_flow_label_changes(df)],\n",
    "#'Number of rows with flow label changes':[count_rows_with_path_flow_label_changes(df)],\n",
    "#'Number of invalid traces':[num_invalid_traces],\n",
    "#'Number of traces removed from dataset':[row_len_diff],\n",
    "#}\n",
    "\n",
    "#tab9 = {\n",
    "#'Number of destination IP-addresses left in dataset after dropping invalid traces': [],\n",
    "#'Number of destination ASNs left in dataset after dropping invalid traces': [],\n",
    "#}\n",
    "table_data_1 = pd.DataFrame(tab1)\n",
    "table_data_2 = pd.DataFrame(tab2)\n",
    "table_data_3 = pd.DataFrame(tab3)\n",
    "table_data_4 = pd.DataFrame(tab4)\n",
    "table_data_5 = pd.DataFrame(tab5)\n",
    "table_data_6 = pd.DataFrame(tab6)\n",
    "#table_data_7 = pd.DataFrame(tab7)\n",
    "#table_data_8 = pd.DataFrame(tab8)\n",
    "#table_data_9 = pd.DataFrame(tab9)\n",
    "  \n",
    "# displaying the DataFrame\n",
    "#print(tabulate(table_data, headers = 'firstrow', tablefmt = 'pipe'))\n",
    "print(tabulate(table_data_1, headers = 'keys', tablefmt = 'center', showindex=False))\n",
    "print(tabulate(table_data_2, headers = 'keys', tablefmt = 'center', showindex=False))\n",
    "print(tabulate(table_data_3, headers = 'keys', tablefmt = 'center', showindex=False))\n",
    "print(tabulate(table_data_4, headers = 'keys', tablefmt = 'center', showindex=False))\n",
    "print(tabulate(table_data_5, headers = 'keys', tablefmt = 'center', showindex=False))\n",
    "print(tabulate(table_data_6, headers = 'keys', tablefmt = 'center', showindex=False))\n",
    "#print(tabulate(table_data_7, headers = 'keys', tablefmt = 'center', showindex=False))\n",
    "#print(tabulate(table_data_8, headers = 'keys', tablefmt = 'center', showindex=False))\n",
    "#print(tabulate(table_data_9, headers = 'keys', tablefmt = 'center', showindex=False))"
   ]
  },
  {
   "cell_type": "markdown",
   "metadata": {},
   "source": [
    "# If the paths diverge, at what hop does the divergence occur?"
   ]
  },
  {
   "cell_type": "code",
   "execution_count": 14,
   "metadata": {
    "tags": []
   },
   "outputs": [
    {
     "data": {
      "image/png": "[encoded data removed]",
      "text/plain": [
       "<Figure size 640x480 with 1 Axes>"
      ]
     },
     "metadata": {},
     "output_type": "display_data"
    },
    {
     "data": {
      "image/png": "[encoded data removed]",
      "text/plain": [
       "<Figure size 640x480 with 1 Axes>"
      ]
     },
     "metadata": {},
     "output_type": "display_data"
    },
    {
     "data": {
      "image/png": "[encoded data removed]",
      "text/plain": [
       "<Figure size 640x480 with 1 Axes>"
      ]
     },
     "metadata": {},
     "output_type": "display_data"
    },
    {
     "ename": "IndexError",
     "evalue": "list index out of range",
     "output_type": "error",
     "traceback": [
      "\u001b[0;31m---------------------------------------------------------------------------\u001b[0m",
      "\u001b[0;31mIndexError\u001b[0m                                Traceback (most recent call last)",
      "Cell \u001b[0;32mIn[14], line 61\u001b[0m\n\u001b[1;32m     57\u001b[0m \u001b[38;5;28;01mfor\u001b[39;00m dst \u001b[38;5;129;01min\u001b[39;00m unique_destination_addresses:\n\u001b[1;32m     58\u001b[0m     dst_df \u001b[38;5;241m=\u001b[39m df[(df[\u001b[38;5;124m\"\u001b[39m\u001b[38;5;124mSOURCE_FLOW_LABEL\u001b[39m\u001b[38;5;124m\"\u001b[39m] \u001b[38;5;241m==\u001b[39m flow_label)\n\u001b[1;32m     59\u001b[0m                 \u001b[38;5;241m&\u001b[39m (df[\u001b[38;5;124m\"\u001b[39m\u001b[38;5;124mDESTINATION_IP\u001b[39m\u001b[38;5;124m\"\u001b[39m] \u001b[38;5;241m==\u001b[39m dst)]\n\u001b[1;32m     60\u001b[0m     divergence_data\u001b[38;5;241m.\u001b[39mappend(\n\u001b[0;32m---> 61\u001b[0m         \u001b[43mdf_get_lowest_hop_number_where_lists_diverge\u001b[49m\u001b[43m(\u001b[49m\u001b[43mdst_df\u001b[49m\u001b[43m)\u001b[49m)\n\u001b[1;32m     62\u001b[0m \u001b[38;5;66;03m# Create CDF Plot\u001b[39;00m\n\u001b[1;32m     63\u001b[0m ndiv_count \u001b[38;5;241m=\u001b[39m divergence_data\u001b[38;5;241m.\u001b[39mcount(\u001b[38;5;28;01mNone\u001b[39;00m)\n",
      "Cell \u001b[0;32mIn[14], line 39\u001b[0m, in \u001b[0;36mdf_get_lowest_hop_number_where_lists_diverge\u001b[0;34m(df)\u001b[0m\n\u001b[1;32m     36\u001b[0m     list_of_lists\u001b[38;5;241m.\u001b[39mappend(list_of_pairs)\n\u001b[1;32m     38\u001b[0m \u001b[38;5;66;03m#longest_list_len = get_len_of_longest_list(list_of_lists)\u001b[39;00m\n\u001b[0;32m---> 39\u001b[0m shortest_list_len \u001b[38;5;241m=\u001b[39m \u001b[43mget_len_of_shortest_list\u001b[49m\u001b[43m(\u001b[49m\u001b[43mlist_of_lists\u001b[49m\u001b[43m)\u001b[49m\n\u001b[1;32m     41\u001b[0m \u001b[38;5;66;03m# Compare list of lists and return the index where they diverge\u001b[39;00m\n\u001b[1;32m     42\u001b[0m \u001b[38;5;28;01mfor\u001b[39;00m idx \u001b[38;5;129;01min\u001b[39;00m \u001b[38;5;28mrange\u001b[39m(shortest_list_len):\n",
      "Cell \u001b[0;32mIn[14], line 20\u001b[0m, in \u001b[0;36mget_len_of_shortest_list\u001b[0;34m(list_of_lists)\u001b[0m\n\u001b[1;32m     18\u001b[0m \u001b[38;5;28;01mdef\u001b[39;00m \u001b[38;5;21mget_len_of_shortest_list\u001b[39m(list_of_lists: \u001b[38;5;28mlist\u001b[39m) \u001b[38;5;241m-\u001b[39m\u001b[38;5;241m>\u001b[39m \u001b[38;5;28mint\u001b[39m:\n\u001b[1;32m     19\u001b[0m     \u001b[38;5;66;03m# Get the length of the shortest list in list_of_lists\u001b[39;00m\n\u001b[0;32m---> 20\u001b[0m     shortest_list_len \u001b[38;5;241m=\u001b[39m \u001b[38;5;28mlen\u001b[39m(\u001b[43mlist_of_lists\u001b[49m\u001b[43m[\u001b[49m\u001b[38;5;241;43m0\u001b[39;49m\u001b[43m]\u001b[49m)\n\u001b[1;32m     21\u001b[0m     \u001b[38;5;28;01mfor\u001b[39;00m lst \u001b[38;5;129;01min\u001b[39;00m list_of_lists:\n\u001b[1;32m     22\u001b[0m         \u001b[38;5;28;01mif\u001b[39;00m \u001b[38;5;28mlen\u001b[39m(lst) \u001b[38;5;241m<\u001b[39m shortest_list_len:\n",
      "\u001b[0;31mIndexError\u001b[0m: list index out of range"
     ]
    }
   ],
   "source": [
    "import seaborn as sns\n",
    "df: pd.DataFrame = sq.load_single(db_path)\n",
    "\n",
    "def get_unique_destination_addresses(df: pd.DataFrame) -> list:\n",
    "    \"\"\"\n",
    "    Get all unique values in the DESTINATION_IP column.\n",
    "    \"\"\"\n",
    "    return df[\"DESTINATION_IP\"].unique().tolist()\n",
    "\n",
    "def get_len_of_longest_list(list_of_lists: list) -> int:\n",
    "    # Get the length of the longest list in list_of_lists\n",
    "    longest_list_len = 0\n",
    "    for lst in list_of_lists:\n",
    "        if len(lst) > longest_list_len:\n",
    "            longest_list_len = len(lst)\n",
    "    return longest_list_len\n",
    "\n",
    "def get_len_of_shortest_list(list_of_lists: list) -> int:\n",
    "    # Get the length of the shortest list in list_of_lists\n",
    "    shortest_list_len = len(list_of_lists[0])\n",
    "    for lst in list_of_lists:\n",
    "        if len(lst) < shortest_list_len:\n",
    "            shortest_list_len = len(lst)\n",
    "    return shortest_list_len\n",
    "\n",
    "def df_get_lowest_hop_number_where_lists_diverge(df: pd.DataFrame) -> int:\n",
    "    columns = df.loc[:, [\"HOP_IP_ADDRESSES\", \"HOP_NUMBERS\"]]\n",
    "    count = 0\n",
    "    list_of_lists = list()\n",
    "    # Create list of lists\n",
    "    for row in columns.itertuples():\n",
    "        ip_addresses: list = str(row[1]).split()\n",
    "        hop_numbers: list = str(row[2]).split()\n",
    "        # Create list of (ip-address, hop-number) tuples\n",
    "        list_of_pairs: list = [(ip, hop_numbers[idx]) for idx, ip in enumerate(ip_addresses)]\n",
    "        list_of_lists.append(list_of_pairs)\n",
    "\n",
    "    #longest_list_len = get_len_of_longest_list(list_of_lists)\n",
    "    shortest_list_len = get_len_of_shortest_list(list_of_lists)\n",
    " \n",
    "    # Compare list of lists and return the index where they diverge\n",
    "    for idx in range(shortest_list_len):\n",
    "        first_list_of_pairs = list_of_lists[0][idx]\n",
    "        for li in list_of_lists[1:]:\n",
    "            if first_list_of_pairs != li[idx]:\n",
    "                hop_numbers = list()\n",
    "                for i in list_of_lists:\n",
    "                    # Get the second item in the tuple, aka the hop_number\n",
    "                    hop_numbers.append(i[idx][1])\n",
    "                return min(hop_numbers)\n",
    "    # If we got this far, the hops did not diverge\n",
    "    return None\n",
    "\n",
    "for flow_label in FLOW_LABELS:\n",
    "    divergence_data = list()\n",
    "    unique_destination_addresses: list = get_unique_destination_addresses(df)\n",
    "    for dst in unique_destination_addresses:\n",
    "        dst_df = df[(df[\"SOURCE_FLOW_LABEL\"] == flow_label)\n",
    "                    & (df[\"DESTINATION_IP\"] == dst)]\n",
    "        divergence_data.append(\n",
    "            df_get_lowest_hop_number_where_lists_diverge(dst_df))\n",
    "    # Create CDF Plot\n",
    "    ndiv_count = divergence_data.count(None)\n",
    "    res = [int(i) for i in divergence_data if i != None]\n",
    "    sns.ecdfplot(data=res, label=f\"Vantage Point: {vantage_point}\\nFlow label: {flow_label}\\nHop Divergence number\")\n",
    "    plt.legend()\n",
    "    plt.show()"
   ]
  },
  {
   "cell_type": "code",
   "execution_count": null,
   "metadata": {},
   "outputs": [],
   "source": []
  }
 ],
 "metadata": {
  "kernelspec": {
   "display_name": "Python 3 (ipykernel)",
   "language": "python",
   "name": "python3"
  },
  "language_info": {
   "codemirror_mode": {
    "name": "ipython",
    "version": 3
   },
   "file_extension": ".py",
   "mimetype": "text/x-python",
   "name": "python",
   "nbconvert_exporter": "python",
   "pygments_lexer": "ipython3",
   "version": "3.10.6"
  },
  "vscode": {
   "interpreter": {
    "hash": "31f2aee4e71d21fbe5cf8b01ff0e069b9275f58929596ceb00d14d90e3e16cd6"
   }
  }
 },
 "nbformat": 4,
 "nbformat_minor": 4
}
