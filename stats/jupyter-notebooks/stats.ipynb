{
 "cells": [
  {
   "attachments": {},
   "cell_type": "markdown",
   "metadata": {},
   "source": [
    "# This is a header!\n",
    "## This is a subheader!\n",
    "### This is a subsubheader"
   ]
  },
  {
   "cell_type": "code",
   "execution_count": 16,
   "metadata": {},
   "outputs": [
    {
     "name": "stderr",
     "output_type": "stream",
     "text": [
      "DEBUG:root:base value_counts:\n",
      "1    34\n",
      "2     3\n",
      "INFO:matplotlib.category:Using categorical units to plot a list of strings that are all parsable as floats or dates. If these strings should be plotted as numbers, cast to the appropriate data type before plotting.\n",
      "INFO:matplotlib.category:Using categorical units to plot a list of strings that are all parsable as floats or dates. If these strings should be plotted as numbers, cast to the appropriate data type before plotting.\n"
     ]
    },
    {
     "name": "stdout",
     "output_type": "stream",
     "text": [
      "Distribution of equal paths with flow label 0:\n"
     ]
    },
    {
     "data": {
      "text/plain": [
       "[Text(0, 0, '34'), Text(0, 0, '3')]"
      ]
     },
     "execution_count": 16,
     "metadata": {},
     "output_type": "execute_result"
    },
    {
     "data": {
      "image/png": "[encoded data removed]",
      "text/plain": [
       "<Figure size 640x480 with 1 Axes>"
      ]
     },
     "metadata": {},
     "output_type": "display_data"
    }
   ],
   "source": [
    "import os\n",
    "import sys\n",
    "module_path = os.path.abspath(os.path.join('..'))\n",
    "if module_path not in sys.path:\n",
    "    sys.path.append(module_path)\n",
    "from os.path import expanduser\n",
    "from lib.definitions.classdefinitions import *\n",
    "import lib.plot as plot\n",
    "import lib.filter as filter\n",
    "import lib.compare as scmp\n",
    "import lib.sqlite_load as sq\n",
    "import prettyprinter as pp\n",
    "import pandas as pd\n",
    "import logging\n",
    "import matplotlib.pyplot as plt\n",
    "from matplotlib.ticker import MaxNLocator\n",
    "\n",
    "source_flow_labels = [0, 255, 65280, 983040, 1048575]\n",
    "home = expanduser(\"~\")\n",
    "# Large data:\n",
    "#db_dir = home + \"/db-storage/large-data/*.db\"\n",
    "#db_path = home + \"/db-storage/large-data/db-ubuntu-ams3-0-2023-01-19T23_00_25Z.db\"\n",
    "# Test/small data:\n",
    "db_dir = home + \"/git/scripts/stats/sample-data/db/*.db\"\n",
    "db_path = home + \"/git/scripts/stats/sample-data/db/db-ubuntu-fra1-0-2023-01-22T17_04_15Z.db\"\n",
    "df: pd.DataFrame = sq.load_single(db_path)\n",
    "flow_label = source_flow_labels[0]\n",
    "print(f\"Distribution of equal paths with flow label {flow_label}:\")\n",
    "dist = filter.get_distribution_of_equal_paths_to_destination(\n",
    "    df, flowlabel=flow_label)\n",
    "#plt.bar([str(i) for i in dist.index], dist, width=0.5)\n",
    "\n",
    "fig, ax = plt.subplots()\n",
    "bars = ax.bar([str(i) for i in dist.index], dist)\n",
    "ax.bar_label(bars)\n",
    "#for flow_label in source_flow_labels:\n",
    "    #print(f\"Distribution of equal paths with flow label {flow_label}:\")\n",
    "    #dist = filter.get_distribution_of_equal_paths_to_destination(\n",
    "        #df, flowlabel=flow_label)\n",
    "    #plt.bar(dist.index, dist)\n",
    "    # print(dist.to_string())\n",
    "    #plot.histogram(dist)\n",
    "    #ax = dist.plot.hist()\n",
    "    #ax = dist.plot.bar()"
   ]
  }
 ],
 "metadata": {
  "kernelspec": {
   "display_name": "Python 3",
   "language": "python",
   "name": "python3"
  },
  "language_info": {
   "codemirror_mode": {
    "name": "ipython",
    "version": 3
   },
   "file_extension": ".py",
   "mimetype": "text/x-python",
   "name": "python",
   "nbconvert_exporter": "python",
   "pygments_lexer": "ipython3",
   "version": "3.8.10"
  },
  "orig_nbformat": 4,
  "vscode": {
   "interpreter": {
    "hash": "31f2aee4e71d21fbe5cf8b01ff0e069b9275f58929596ceb00d14d90e3e16cd6"
   }
  }
 },
 "nbformat": 4,
 "nbformat_minor": 2
}
